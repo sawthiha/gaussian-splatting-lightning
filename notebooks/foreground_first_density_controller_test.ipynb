{
 "cells": [
  {
   "cell_type": "code",
   "execution_count": 1,
   "metadata": {},
   "outputs": [],
   "source": [
    "%load_ext autoreload\n",
    "%autoreload 2"
   ]
  },
  {
   "cell_type": "markdown",
   "metadata": {},
   "source": [
    "Load dataset"
   ]
  },
  {
   "cell_type": "code",
   "execution_count": 2,
   "metadata": {},
   "outputs": [],
   "source": [
    "import os\n",
    "from internal.dataparsers.colmap_dataparser import Colmap"
   ]
  },
  {
   "cell_type": "code",
   "execution_count": 3,
   "metadata": {},
   "outputs": [],
   "source": [
    "dataset_path = os.path.expanduser(\"~/dataset/dbl/parsed_from_exif-sift_matching/dense_1600-from_hie_map\")\n",
    "partition_path = os.path.join(dataset_path, \"partitions-size_5.0-enlarge_0.1-visibility_0.9_0.1\")\n",
    "partition_id_str = \"000_003\""
   ]
  },
  {
   "cell_type": "code",
   "execution_count": 4,
   "metadata": {},
   "outputs": [
    {
     "name": "stdout",
     "output_type": "stream",
     "text": [
      "appearance group by camera id\n",
      "loading colmap 3D points\n",
      "[WARNING]Some images can not be found in colmap sparse model: ['h/22h00395.JPG', 'h/22h00455.JPG', 'h/22h00515.JPG', 'h/22h00576.JPG', 'h/22h00636.JPG', 'h/22h00696.JPG', 'h/22h00756.JPG', 'h/22h00816.JPG', 'h/22h00876.JPG', 'h/22h00949.JPG', 'h/22h01009.JPG', 'h/22h01069.JPG', 'h/22h01189.JPG', 'h/22h01259.JPG', 'h/22h01319.JPG', 'h/22h01380.JPG', 'h/22h01450.JPG', 'h/22h01510.JPG', 'h/22h01574.JPG', 'h/22h01634.JPG', 'h/22h01694.JPG', 'h/22h01754.JPG', 'h/23h00116.JPG', 'h/23h00176.JPG', 'h/23h00236.JPG', 'h/24h00024.JPG', 'h/24h00084.JPG', 'h/24h00144.JPG', 'q/22q00342.JPG', 'q/22q00402.JPG', 'q/22q00462.JPG', 'q/22q00522.JPG', 'q/22q00582.JPG', 'q/22q00642.JPG', 'q/22q00703.JPG', 'q/22q00763.JPG', 'q/22q00824.JPG', 'q/22q00887.JPG', 'q/22q00953.JPG', 'q/22q01013.JPG', 'q/22q01075.JPG', 'q/22q01135.JPG', 'q/22q01196.JPG', 'q/22q01265.JPG', 'q/22q01325.JPG', 'q/22q01394.JPG', 'q/22q01514.JPG', 'q/22q01576.JPG', 'q/22q01696.JPG', 'q/22q01756.JPG', 'q/23q00058.JPG', 'q/23q00118.JPG', 'q/23q00178.JPG', 'q/23q00238.JPG', 'q/24q00027.JPG', 'q/24q00089.JPG', 'q/24q00149.JPG', 'x/22x00349.JPG', 'x/22x00409.JPG', 'x/22x00469.JPG', 'x/22x00529.JPG', 'x/22x00589.JPG', 'x/22x00649.JPG', 'x/22x00709.JPG', 'x/22x00769.JPG', 'x/22x00829.JPG', 'x/22x00891.JPG', 'x/22x00951.JPG', 'x/22x01011.JPG', 'x/22x01071.JPG', 'x/22x01131.JPG', 'x/22x01191.JPG', 'x/22x01253.JPG', 'x/22x01313.JPG', 'x/22x01373.JPG', 'x/22x01435.JPG', 'x/22x01495.JPG', 'x/22x01555.JPG', 'x/22x01675.JPG', 'x/22x01735.JPG', 'x/23x00037.JPG', 'x/23x00097.JPG', 'x/23x00157.JPG', 'x/23x00217.JPG', 'x/24x00005.JPG', 'x/24x00065.JPG', 'x/24x00125.JPG', 'x/24x00185.JPG', 'y/22y00383.JPG', 'y/22y00443.JPG', 'y/22y00503.JPG', 'y/22y00564.JPG', 'y/22y00625.JPG', 'y/22y00685.JPG', 'y/22y00745.JPG', 'y/22y00805.JPG', 'y/22y00865.JPG', 'y/22y00948.JPG', 'y/22y01008.JPG', 'y/22y01068.JPG', 'y/22y01128.JPG', 'y/22y01188.JPG', 'y/22y01248.JPG', 'y/22y01308.JPG', 'y/22y01368.JPG', 'y/22y01441.JPG', 'y/22y01501.JPG', 'y/22y01566.JPG', 'y/22y01626.JPG', 'y/22y01686.JPG', 'y/22y01747.JPG', 'y/23y00109.JPG', 'y/23y00169.JPG', 'y/23y00229.JPG', 'y/24y00017.JPG', 'y/24y00077.JPG', 'y/24y00138.JPG', 'z/22z00337.JPG', 'z/22z00397.JPG', 'z/22z00458.JPG', 'z/22z00518.JPG', 'z/22z00578.JPG', 'z/22z00638.JPG', 'z/22z00698.JPG', 'z/22z00758.JPG', 'z/22z00818.JPG', 'z/22z00878.JPG', 'z/22z00945.JPG', 'z/22z01005.JPG', 'z/22z01065.JPG', 'z/22z01185.JPG', 'z/22z01263.JPG', 'z/22z01383.JPG', 'z/22z01449.JPG', 'z/22z01509.JPG', 'z/22z01569.JPG', 'z/22z01629.JPG', 'z/22z01689.JPG', 'z/22z01749.JPG', 'z/23z00111.JPG', 'z/23z00231.JPG', 'z/24z00079.JPG']\n",
      "[colmap dataparser] train set images: 678, val set images: 11, loaded mask: 0\n"
     ]
    }
   ],
   "source": [
    "dataparser_outputs = Colmap(\n",
    "    image_list=os.path.join(partition_path, \"{}.txt\".format(partition_id_str)),\n",
    "    eval_image_select_mode=\"list-optional\",\n",
    "    eval_list=os.path.join(dataset_path, \"test_set.txt\"),\n",
    "    split_mode=\"experiment\",\n",
    ").instantiate(dataset_path, 0, 0).get_outputs()\n",
    "# dataparser_outputs"
   ]
  },
  {
   "cell_type": "markdown",
   "metadata": {},
   "source": [
    "Load partition data"
   ]
  },
  {
   "cell_type": "code",
   "execution_count": 5,
   "metadata": {},
   "outputs": [],
   "source": [
    "import torch\n",
    "from internal.utils.partitioning_utils import PartitionCoordinates\n",
    "partition_data = torch.load(os.path.join(partition_path, \"partitions.pt\"))\n",
    "partition_coordinates = PartitionCoordinates(**partition_data[\"partition_coordinates\"])"
   ]
  },
  {
   "cell_type": "code",
   "execution_count": 6,
   "metadata": {},
   "outputs": [
    {
     "data": {
      "text/plain": [
       "46"
      ]
     },
     "execution_count": 6,
     "metadata": {},
     "output_type": "execute_result"
    }
   ],
   "source": [
    "partition_idx = -1\n",
    "for idx, _ in enumerate(partition_coordinates):\n",
    "    if partition_coordinates.get_str_id(idx) == partition_id_str:\n",
    "        partition_idx = idx\n",
    "        break\n",
    "assert partition_idx >= 0\n",
    "partition_idx"
   ]
  },
  {
   "cell_type": "code",
   "execution_count": 7,
   "metadata": {},
   "outputs": [
    {
     "data": {
      "text/plain": [
       "5.0"
      ]
     },
     "execution_count": 7,
     "metadata": {},
     "output_type": "execute_result"
    }
   ],
   "source": [
    "partition_data[\"scene_config\"][\"partition_size\"]"
   ]
  },
  {
   "cell_type": "code",
   "execution_count": 8,
   "metadata": {},
   "outputs": [
    {
     "data": {
      "text/plain": [
       "tensor([ 0., 19.])"
      ]
     },
     "execution_count": 8,
     "metadata": {},
     "output_type": "execute_result"
    }
   ],
   "source": [
    "# partition center\n",
    "partition_box = partition_coordinates.get_bounding_boxes(partition_data[\"scene_config\"][\"partition_size\"])[partition_idx]\n",
    "partition_center = (partition_box.min + partition_box.max) * 0.5\n",
    "partition_center"
   ]
  },
  {
   "cell_type": "markdown",
   "metadata": {},
   "source": [
    "Create model and density controller"
   ]
  },
  {
   "cell_type": "code",
   "execution_count": 9,
   "metadata": {},
   "outputs": [],
   "source": [
    "from internal.models.vanilla_gaussian import VanillaGaussian\n",
    "gaussian_model = VanillaGaussian(\n",
    "    sh_degree=0,\n",
    ").instantiate()\n",
    "gaussian_model.setup_from_pcd(xyz=dataparser_outputs.point_cloud.xyz, rgb=dataparser_outputs.point_cloud.rgb)"
   ]
  },
  {
   "cell_type": "code",
   "execution_count": 10,
   "metadata": {},
   "outputs": [
    {
     "name": "stdout",
     "output_type": "stream",
     "text": [
      "partition_idx=#46, id=tensor([0, 3], dtype=torch.int32), transform=[[0.9906935691833496, -0.1124858558177948, 0.07663705945014954, 0.0], [-0.1015680804848671, -0.9857741594314575, -0.13391463458538055, 0.0], [0.0906103253364563, 0.1248844787478447, -0.9880251288414001, 0.0], [0.0, 0.0, 0.0, 1.0]], center=[0.0, 19.0], radius=3.535533905029297\n"
     ]
    }
   ],
   "source": [
    "from internal.density_controllers.foreground_first_density_controller import ForegroundFirstDensityController\n",
    "density_controller = ForegroundFirstDensityController(\n",
    "    partition=partition_path,\n",
    "    partition_idx=partition_idx,\n",
    ").instantiate()\n",
    "density_controller.setup(stage=\"validate\", pl_module=None)"
   ]
  },
  {
   "cell_type": "code",
   "execution_count": 11,
   "metadata": {},
   "outputs": [
    {
     "data": {
      "text/plain": [
       "tensor([[ 0.9907, -0.1125,  0.0766,  0.0000],\n",
       "        [-0.1016, -0.9858, -0.1339,  0.0000],\n",
       "        [ 0.0906,  0.1249, -0.9880,  0.0000],\n",
       "        [ 0.0000,  0.0000,  0.0000,  1.0000]])"
      ]
     },
     "execution_count": 11,
     "metadata": {},
     "output_type": "execute_result"
    }
   ],
   "source": [
    "density_controller.rotation_transform"
   ]
  },
  {
   "cell_type": "markdown",
   "metadata": {},
   "source": [
    "Get mask"
   ]
  },
  {
   "cell_type": "code",
   "execution_count": 12,
   "metadata": {},
   "outputs": [],
   "source": [
    "def get_partition_gaussian_mask(\n",
    "        means: torch.Tensor,\n",
    "        partition_bounding_box,\n",
    "        orientation_transform: torch.Tensor = None,\n",
    "):\n",
    "    if orientation_transform is not None:\n",
    "        means = means @ orientation_transform[:3, :3].T\n",
    "\n",
    "    # include min bound, exclude max bound\n",
    "    is_ge_min = torch.prod(torch.ge(means[..., :2], partition_bounding_box.min), dim=-1)\n",
    "    is_lt_max = torch.prod(torch.lt(means[..., :2], partition_bounding_box.max), dim=-1)\n",
    "    is_in_bounding_box = torch.logical_and(is_ge_min, is_lt_max)\n",
    "\n",
    "    return is_in_bounding_box, means"
   ]
  },
  {
   "cell_type": "code",
   "execution_count": 13,
   "metadata": {},
   "outputs": [],
   "source": [
    "is_inside_partition, transformed_means = get_partition_gaussian_mask(\n",
    "    gaussian_model.get_means(),\n",
    "    partition_bounding_box=partition_box,\n",
    "    orientation_transform=partition_data[\"extra_data\"][\"rotation_transform\"],\n",
    ")"
   ]
  },
  {
   "cell_type": "markdown",
   "metadata": {},
   "source": [
    "Get grad factors"
   ]
  },
  {
   "cell_type": "code",
   "execution_count": 14,
   "metadata": {},
   "outputs": [],
   "source": [
    "grad_factors = density_controller._get_grad_decay_factors(gaussian_model)"
   ]
  },
  {
   "cell_type": "code",
   "execution_count": 15,
   "metadata": {},
   "outputs": [],
   "source": [
    "assert torch.allclose(density_controller.partition_center, partition_center), (density_controller.partition_center, partition_center)"
   ]
  },
  {
   "cell_type": "code",
   "execution_count": 16,
   "metadata": {},
   "outputs": [],
   "source": [
    "assert torch.allclose(grad_factors[is_inside_partition], torch.tensor(1.))"
   ]
  },
  {
   "cell_type": "code",
   "execution_count": 17,
   "metadata": {},
   "outputs": [
    {
     "data": {
      "text/plain": [
       "tensor(3.5355)"
      ]
     },
     "execution_count": 17,
     "metadata": {},
     "output_type": "execute_result"
    }
   ],
   "source": [
    "partition_radius = density_controller.partition_radius\n",
    "partition_radius"
   ]
  },
  {
   "cell_type": "code",
   "execution_count": 18,
   "metadata": {},
   "outputs": [],
   "source": [
    "distances = torch.norm(transformed_means[:, :2] - partition_center, dim=-1)"
   ]
  },
  {
   "cell_type": "code",
   "execution_count": 19,
   "metadata": {},
   "outputs": [
    {
     "name": "stdout",
     "output_type": "stream",
     "text": [
      "#0, distance=5.698302268981934, distance_radius_factor=1.6117233037948608, grad_factor=2.0\n",
      "#16, distance=4.107719421386719, distance_radius_factor=1.1618385314941406, grad_factor=1.3236770629882812\n",
      "#32, distance=3.1625254154205322, distance_radius_factor=0.894497275352478, grad_factor=1.0\n"
     ]
    }
   ],
   "source": [
    "for idx in [0, 16, 32]:\n",
    "    print(\"#{}, distance={}, distance_radius_factor={}, grad_factor={}\".format(\n",
    "        idx,\n",
    "        distances[idx],\n",
    "        distances[idx] / partition_radius,\n",
    "        grad_factors[idx],\n",
    "    ))"
   ]
  },
  {
   "cell_type": "code",
   "execution_count": 20,
   "metadata": {},
   "outputs": [
    {
     "data": {
      "text/plain": [
       "MinMaxBoundingBox(min=tensor([-2.5000, 16.5000]), max=tensor([ 2.5000, 21.5000]))"
      ]
     },
     "execution_count": 20,
     "metadata": {},
     "output_type": "execute_result"
    }
   ],
   "source": [
    "partition_box"
   ]
  },
  {
   "cell_type": "code",
   "execution_count": 21,
   "metadata": {},
   "outputs": [
    {
     "data": {
      "image/png": "[encoded data removed]",
      "text/plain": [
       "<Figure size 640x480 with 1 Axes>"
      ]
     },
     "metadata": {},
     "output_type": "display_data"
    }
   ],
   "source": [
    "import matplotlib.pyplot as plt\n",
    "import matplotlib.patches as mpatches\n",
    "\n",
    "with torch.no_grad():\n",
    "    fig, ax = plt.subplots()\n",
    "    ax.set_aspect('equal', adjustable='box')\n",
    "    ax.set_xlim([\n",
    "        transformed_means[:, 0].min(),\n",
    "        transformed_means[:, 0].max(),\n",
    "    ])\n",
    "    ax.set_ylim([\n",
    "        transformed_means[:, 1].min(),\n",
    "        transformed_means[:, 1].max(),\n",
    "    ])\n",
    "    ax.scatter(\n",
    "        x=transformed_means[::16, 0],\n",
    "        y=transformed_means[::16, 1],\n",
    "        s=0.01,\n",
    "        c=grad_factors[::16] - 1.\n",
    "    )\n",
    "    # all of the rectangles and circles share a common center\n",
    "    ax.add_artist(mpatches.Rectangle(\n",
    "        partition_box.min.tolist(),\n",
    "        partition_box.max[0] - partition_box.min[0],\n",
    "        partition_box.max[1] - partition_box.min[1],\n",
    "        fill=False,\n",
    "        color=\"green\",\n",
    "    ))\n",
    "    # grad_factor=1 inside this circle\n",
    "    ax.add_artist(mpatches.Circle(\n",
    "        xy=partition_center.tolist(),\n",
    "        radius=partition_radius,\n",
    "        fill=False,\n",
    "        color=\"red\",\n",
    "    ))\n",
    "    # grad_factor=2 outside this\n",
    "    ax.add_artist(mpatches.Circle(\n",
    "        xy=partition_center.tolist(),\n",
    "        radius=partition_radius * density_controller.config.max_radius_factor,\n",
    "        fill=False,\n",
    "        color=\"blue\",\n",
    "    ))\n",
    "    plt.show()"
   ]
  }
 ],
 "metadata": {
  "kernelspec": {
   "display_name": "Python 3 (ipykernel)",
   "language": "python",
   "name": "python3"
  },
  "language_info": {
   "codemirror_mode": {
    "name": "ipython",
    "version": 3
   },
   "file_extension": ".py",
   "mimetype": "text/x-python",
   "name": "python",
   "nbconvert_exporter": "python",
   "pygments_lexer": "ipython3",
   "version": "3.9.19"
  }
 },
 "nbformat": 4,
 "nbformat_minor": 2
}
